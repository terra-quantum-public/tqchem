{
 "cells": [
  {
   "cell_type": "markdown",
   "id": "14eaa959",
   "metadata": {},
   "source": [
    "## Conformer Search\n",
    "\n",
    "The goal in Conformer optimization is to find the most stable 3D structure of a molecule \n",
    "which differ by dihedral angles, bond angles and bond lengths.\n",
    "We use tensor trains to avoid the exponential complexity of the\n",
    "conformer search problem.\n",
    "\n",
    "A more detailed explanation can be found in our [paper](http://dx.doi.org/10.26434/chemrxiv-2024-jjns1)."
   ]
  },
  {
   "cell_type": "markdown",
   "id": "92a0f518",
   "metadata": {},
   "source": [
    "### Representation of a molecule\n",
    "\n",
    "The internal representation of a molecule in TQchem is the MolecularSystem class,\n",
    "which can be initialized from a variety of popular molecule representations.\n",
    "TQchem supports conversion from:\n",
    "- rdkit.Mol\n",
    "- ase.Atoms\n",
    "- smiles string\n",
    "- xyz file/xyz block\n",
    "\n",
    "For example, below is an example of creating a MolecularSystem object from an xyz block:"
   ]
  },
  {
   "cell_type": "code",
   "execution_count": 1,
   "id": "22aa403c-e34e-48ee-9862-96ee0875f226",
   "metadata": {},
   "outputs": [
    {
     "data": {
      "application/3dmoljs_load.v0": "<div id=\"3dmolviewer_1733156365631412\"  style=\"position: relative; width: 300px; height: 300px;\">\n        <p id=\"3dmolwarning_1733156365631412\" style=\"background-color:#ffcccc;color:black\">3Dmol.js failed to load for some reason.  Please check your browser console for error messages.<br></p>\n        </div>\n<script>\n\nvar loadScriptAsync = function(uri){\n  return new Promise((resolve, reject) => {\n    //this is to ignore the existence of requirejs amd\n    var savedexports, savedmodule;\n    if (typeof exports !== 'undefined') savedexports = exports;\n    else exports = {}\n    if (typeof module !== 'undefined') savedmodule = module;\n    else module = {}\n\n    var tag = document.createElement('script');\n    tag.src = uri;\n    tag.async = true;\n    tag.onload = () => {\n        exports = savedexports;\n        module = savedmodule;\n        resolve();\n    };\n  var firstScriptTag = document.getElementsByTagName('script')[0];\n  firstScriptTag.parentNode.insertBefore(tag, firstScriptTag);\n});\n};\n\nif(typeof $3Dmolpromise === 'undefined') {\n$3Dmolpromise = null;\n  $3Dmolpromise = loadScriptAsync('https://cdnjs.cloudflare.com/ajax/libs/3Dmol/2.4.2/3Dmol-min.js');\n}\n\nvar viewer_1733156365631412 = null;\nvar warn = document.getElementById(\"3dmolwarning_1733156365631412\");\nif(warn) {\n    warn.parentNode.removeChild(warn);\n}\n$3Dmolpromise.then(function() {\nviewer_1733156365631412 = $3Dmol.createViewer(document.getElementById(\"3dmolviewer_1733156365631412\"),{backgroundColor:\"white\"});\nviewer_1733156365631412.zoomTo();\n\tviewer_1733156365631412.addModel(\"13\\n\\nC      -1.044461000000000     -0.825824000000000      0.211330000000000\\nC      -0.285778000000000      0.490479000000000      0.068986000000000\\nO      -0.589226000000000      1.155464000000000     -1.136284000000000\\nC       1.232755000000000      0.259051000000000      0.185495000000000\\nO       1.610069000000000     -0.323671000000000      1.406869000000000\\nH      -2.115750000000000     -0.643571000000000      0.208448000000000\\nH      -0.791736000000000     -1.487830000000000     -0.614662000000000\\nH      -0.764530000000000     -1.309872000000000      1.143418000000000\\nH      -0.605130000000000      1.182551000000000      0.857893000000000\\nH      -0.296714000000000      0.606873000000000     -1.873951000000000\\nH       1.557840000000000     -0.441551000000000     -0.590202000000000\\nH       1.752598000000000      1.214578000000000      0.025047000000000\\nH       1.331217000000000      0.249819000000000      2.128887000000000\\n\");\n\tviewer_1733156365631412.setStyle({\"stick\": {\"radius\": 0.2}, \"sphere\": {\"radius\": 0.25}});\n\tviewer_1733156365631412.zoomTo();\nviewer_1733156365631412.render();\n});\n</script>",
      "text/html": [
       "<div id=\"3dmolviewer_1733156365631412\"  style=\"position: relative; width: 300px; height: 300px;\">\n",
       "        <p id=\"3dmolwarning_1733156365631412\" style=\"background-color:#ffcccc;color:black\">3Dmol.js failed to load for some reason.  Please check your browser console for error messages.<br></p>\n",
       "        </div>\n",
       "<script>\n",
       "\n",
       "var loadScriptAsync = function(uri){\n",
       "  return new Promise((resolve, reject) => {\n",
       "    //this is to ignore the existence of requirejs amd\n",
       "    var savedexports, savedmodule;\n",
       "    if (typeof exports !== 'undefined') savedexports = exports;\n",
       "    else exports = {}\n",
       "    if (typeof module !== 'undefined') savedmodule = module;\n",
       "    else module = {}\n",
       "\n",
       "    var tag = document.createElement('script');\n",
       "    tag.src = uri;\n",
       "    tag.async = true;\n",
       "    tag.onload = () => {\n",
       "        exports = savedexports;\n",
       "        module = savedmodule;\n",
       "        resolve();\n",
       "    };\n",
       "  var firstScriptTag = document.getElementsByTagName('script')[0];\n",
       "  firstScriptTag.parentNode.insertBefore(tag, firstScriptTag);\n",
       "});\n",
       "};\n",
       "\n",
       "if(typeof $3Dmolpromise === 'undefined') {\n",
       "$3Dmolpromise = null;\n",
       "  $3Dmolpromise = loadScriptAsync('https://cdnjs.cloudflare.com/ajax/libs/3Dmol/2.4.2/3Dmol-min.js');\n",
       "}\n",
       "\n",
       "var viewer_1733156365631412 = null;\n",
       "var warn = document.getElementById(\"3dmolwarning_1733156365631412\");\n",
       "if(warn) {\n",
       "    warn.parentNode.removeChild(warn);\n",
       "}\n",
       "$3Dmolpromise.then(function() {\n",
       "viewer_1733156365631412 = $3Dmol.createViewer(document.getElementById(\"3dmolviewer_1733156365631412\"),{backgroundColor:\"white\"});\n",
       "viewer_1733156365631412.zoomTo();\n",
       "\tviewer_1733156365631412.addModel(\"13\\n\\nC      -1.044461000000000     -0.825824000000000      0.211330000000000\\nC      -0.285778000000000      0.490479000000000      0.068986000000000\\nO      -0.589226000000000      1.155464000000000     -1.136284000000000\\nC       1.232755000000000      0.259051000000000      0.185495000000000\\nO       1.610069000000000     -0.323671000000000      1.406869000000000\\nH      -2.115750000000000     -0.643571000000000      0.208448000000000\\nH      -0.791736000000000     -1.487830000000000     -0.614662000000000\\nH      -0.764530000000000     -1.309872000000000      1.143418000000000\\nH      -0.605130000000000      1.182551000000000      0.857893000000000\\nH      -0.296714000000000      0.606873000000000     -1.873951000000000\\nH       1.557840000000000     -0.441551000000000     -0.590202000000000\\nH       1.752598000000000      1.214578000000000      0.025047000000000\\nH       1.331217000000000      0.249819000000000      2.128887000000000\\n\");\n",
       "\tviewer_1733156365631412.setStyle({\"stick\": {\"radius\": 0.2}, \"sphere\": {\"radius\": 0.25}});\n",
       "\tviewer_1733156365631412.zoomTo();\n",
       "viewer_1733156365631412.render();\n",
       "});\n",
       "</script>"
      ]
     },
     "metadata": {},
     "output_type": "display_data"
    }
   ],
   "source": [
    "from tqchem.viewer import plot_3D_molecule\n",
    "from tqchem.molgraph import molecularSystem\n",
    "\n",
    "xyz_block = \"\"\"13\n",
    "\n",
    "C     -1.044461   -0.825824    0.211330\n",
    "C     -0.285778    0.490479    0.068986\n",
    "O     -0.589226    1.155464   -1.136284\n",
    "C      1.232755    0.259051    0.185495\n",
    "O      1.610069   -0.323671    1.406869\n",
    "H     -2.115750   -0.643571    0.208448\n",
    "H     -0.791736   -1.487830   -0.614662\n",
    "H     -0.764530   -1.309872    1.143418\n",
    "H     -0.605130    1.182551    0.857893\n",
    "H     -0.296714    0.606873   -1.873951\n",
    "H      1.557840   -0.441551   -0.590202\n",
    "H      1.752598    1.214578    0.025047\n",
    "H      1.331217    0.249819    2.128887\"\"\"\n",
    "\n",
    "initial_molecule = molecularSystem(xyz_block)\n",
    "plot_3D_molecule(initial_molecule.ase).show()"
   ]
  },
  {
   "cell_type": "markdown",
   "id": "773a5aec",
   "metadata": {},
   "source": [
    "### Perform optimization\n",
    "\n",
    "Here we run `ttconf` with 2 sweeps and rank 2 for the xyz representation of propylene glycol.\n",
    "\n",
    "This could also be done from the command line using:\n",
    "```bash\n",
    "tqchem ttconf --xyz propyleneglycol.xyz --rank 2 --n_sweeps 2\n",
    "```\n",
    "Or for the smiles string:\n",
    "```bash\n",
    "tqchem ttconf CC(CO)O --rank 2 --n_sweeps 2\n",
    "```"
   ]
  },
  {
   "cell_type": "code",
   "execution_count": 2,
   "id": "ed0b5c99-b80d-4468-96a9-fd8fad7d6137",
   "metadata": {},
   "outputs": [
    {
     "name": "stdout",
     "output_type": "stream",
     "text": [
      "\n",
      "      sweep | index |   Objective  | Runtime\n",
      "     -----------------------------------------------\n",
      "          1 |     3 |  -506.703733 | 0:00:01.447695\n",
      "          1 |     2 |  -506.736523 | 0:00:03.526279\n",
      "          1 |     1 |  -506.739942 | 0:00:04.336713\n",
      "          2 |     1 |  -506.739942 | 0:00:04.337227\n",
      "          2 |     2 |  -506.739942 | 0:00:07.245324\n",
      "          2 |     3 |  -506.739942 | 0:00:08.255990\n",
      "energy_best_conformer = -506.7399424741814\n"
     ]
    }
   ],
   "source": [
    "from tqchem.ttconf.factory import ttconf_optimizer\n",
    "\n",
    "ttopt = ttconf_optimizer(initial_molecule, filter_type=\"energy\")\n",
    "\n",
    "results = ttopt.optimize()\n",
    "best_conformer_xyz, energy_best_conformer = results.minimum_energy_xyz()\n",
    "best_conformer = molecularSystem(best_conformer_xyz)\n",
    "\n",
    "print(f\"{energy_best_conformer = }\")"
   ]
  },
  {
   "cell_type": "markdown",
   "id": "0fbb7419-b3e1-4652-9112-1257f196fcdc",
   "metadata": {},
   "source": [
    "### Visualize the molecule with lowest energy"
   ]
  },
  {
   "cell_type": "code",
   "execution_count": 3,
   "id": "277eaf19-e871-4925-ad79-a990bf44d40b",
   "metadata": {},
   "outputs": [
    {
     "data": {
      "application/3dmoljs_load.v0": "<div id=\"3dmolviewer_1733156375250543\"  style=\"position: relative; width: 300px; height: 300px;\">\n        <p id=\"3dmolwarning_1733156375250543\" style=\"background-color:#ffcccc;color:black\">3Dmol.js failed to load for some reason.  Please check your browser console for error messages.<br></p>\n        </div>\n<script>\n\nvar loadScriptAsync = function(uri){\n  return new Promise((resolve, reject) => {\n    //this is to ignore the existence of requirejs amd\n    var savedexports, savedmodule;\n    if (typeof exports !== 'undefined') savedexports = exports;\n    else exports = {}\n    if (typeof module !== 'undefined') savedmodule = module;\n    else module = {}\n\n    var tag = document.createElement('script');\n    tag.src = uri;\n    tag.async = true;\n    tag.onload = () => {\n        exports = savedexports;\n        module = savedmodule;\n        resolve();\n    };\n  var firstScriptTag = document.getElementsByTagName('script')[0];\n  firstScriptTag.parentNode.insertBefore(tag, firstScriptTag);\n});\n};\n\nif(typeof $3Dmolpromise === 'undefined') {\n$3Dmolpromise = null;\n  $3Dmolpromise = loadScriptAsync('https://cdnjs.cloudflare.com/ajax/libs/3Dmol/2.4.2/3Dmol-min.js');\n}\n\nvar viewer_1733156375250543 = null;\nvar warn = document.getElementById(\"3dmolwarning_1733156375250543\");\nif(warn) {\n    warn.parentNode.removeChild(warn);\n}\n$3Dmolpromise.then(function() {\nviewer_1733156375250543 = $3Dmol.createViewer(document.getElementById(\"3dmolviewer_1733156375250543\"),{backgroundColor:\"white\"});\nviewer_1733156375250543.zoomTo();\n\tviewer_1733156375250543.addModel(\"13\\n\\nC      -1.014333000000000     -0.743665000000000      0.168852000000000\\nC      -0.197625000000000      0.540182000000000      0.087813000000000\\nO      -0.437772000000000      1.254497000000000     -1.110079000000000\\nC       1.304225000000000      0.239062000000000      0.201282000000000\\nO       2.063346000000000      1.416994000000000      0.164142000000000\\nH      -2.075462000000000     -0.524469000000000      0.082018000000000\\nH      -0.725115000000000     -1.423407000000000     -0.632573000000000\\nH      -0.830588000000000     -1.232893000000000      1.120394000000000\\nH      -0.491032000000000      1.235173000000000      0.882761000000000\\nH      -0.298007000000000      0.658323000000000     -1.856523000000000\\nH       1.530499000000000     -0.258144000000000      1.144781000000000\\nH       1.593505000000000     -0.435113000000000     -0.623985000000000\\nH       1.636665000000000      2.003787000000000     -0.475541000000000\\n\");\n\tviewer_1733156375250543.setStyle({\"stick\": {\"radius\": 0.2}, \"sphere\": {\"radius\": 0.25}});\n\tviewer_1733156375250543.zoomTo();\nviewer_1733156375250543.render();\n});\n</script>",
      "text/html": [
       "<div id=\"3dmolviewer_1733156375250543\"  style=\"position: relative; width: 300px; height: 300px;\">\n",
       "        <p id=\"3dmolwarning_1733156375250543\" style=\"background-color:#ffcccc;color:black\">3Dmol.js failed to load for some reason.  Please check your browser console for error messages.<br></p>\n",
       "        </div>\n",
       "<script>\n",
       "\n",
       "var loadScriptAsync = function(uri){\n",
       "  return new Promise((resolve, reject) => {\n",
       "    //this is to ignore the existence of requirejs amd\n",
       "    var savedexports, savedmodule;\n",
       "    if (typeof exports !== 'undefined') savedexports = exports;\n",
       "    else exports = {}\n",
       "    if (typeof module !== 'undefined') savedmodule = module;\n",
       "    else module = {}\n",
       "\n",
       "    var tag = document.createElement('script');\n",
       "    tag.src = uri;\n",
       "    tag.async = true;\n",
       "    tag.onload = () => {\n",
       "        exports = savedexports;\n",
       "        module = savedmodule;\n",
       "        resolve();\n",
       "    };\n",
       "  var firstScriptTag = document.getElementsByTagName('script')[0];\n",
       "  firstScriptTag.parentNode.insertBefore(tag, firstScriptTag);\n",
       "});\n",
       "};\n",
       "\n",
       "if(typeof $3Dmolpromise === 'undefined') {\n",
       "$3Dmolpromise = null;\n",
       "  $3Dmolpromise = loadScriptAsync('https://cdnjs.cloudflare.com/ajax/libs/3Dmol/2.4.2/3Dmol-min.js');\n",
       "}\n",
       "\n",
       "var viewer_1733156375250543 = null;\n",
       "var warn = document.getElementById(\"3dmolwarning_1733156375250543\");\n",
       "if(warn) {\n",
       "    warn.parentNode.removeChild(warn);\n",
       "}\n",
       "$3Dmolpromise.then(function() {\n",
       "viewer_1733156375250543 = $3Dmol.createViewer(document.getElementById(\"3dmolviewer_1733156375250543\"),{backgroundColor:\"white\"});\n",
       "viewer_1733156375250543.zoomTo();\n",
       "\tviewer_1733156375250543.addModel(\"13\\n\\nC      -1.014333000000000     -0.743665000000000      0.168852000000000\\nC      -0.197625000000000      0.540182000000000      0.087813000000000\\nO      -0.437772000000000      1.254497000000000     -1.110079000000000\\nC       1.304225000000000      0.239062000000000      0.201282000000000\\nO       2.063346000000000      1.416994000000000      0.164142000000000\\nH      -2.075462000000000     -0.524469000000000      0.082018000000000\\nH      -0.725115000000000     -1.423407000000000     -0.632573000000000\\nH      -0.830588000000000     -1.232893000000000      1.120394000000000\\nH      -0.491032000000000      1.235173000000000      0.882761000000000\\nH      -0.298007000000000      0.658323000000000     -1.856523000000000\\nH       1.530499000000000     -0.258144000000000      1.144781000000000\\nH       1.593505000000000     -0.435113000000000     -0.623985000000000\\nH       1.636665000000000      2.003787000000000     -0.475541000000000\\n\");\n",
       "\tviewer_1733156375250543.setStyle({\"stick\": {\"radius\": 0.2}, \"sphere\": {\"radius\": 0.25}});\n",
       "\tviewer_1733156375250543.zoomTo();\n",
       "viewer_1733156375250543.render();\n",
       "});\n",
       "</script>"
      ]
     },
     "metadata": {},
     "output_type": "display_data"
    }
   ],
   "source": [
    "plot_3D_molecule(best_conformer_xyz).show()"
   ]
  },
  {
   "cell_type": "markdown",
   "id": "83f37e9a-e2ca-4d65-8eb6-6de084a05558",
   "metadata": {},
   "source": [
    "### Optimize structure using CREST:\n",
    "\n",
    "Although global optimization in TTConf includes local optimization, \n",
    "it is often useful to perform a \"final\" local optimization of the structure at the end of the global optimization. \n",
    "Below we perform the optimization of a conformational ensemble with an energy window of 6 kcal/mol from the minimal conformer\n",
    "using the [CREST](https://crest-lab.github.io/crest-docs/) wrapper built into TQchem:"
   ]
  },
  {
   "cell_type": "code",
   "execution_count": 4,
   "id": "3908e514-2cb4-45cc-9d16-1a9397c707c5",
   "metadata": {},
   "outputs": [],
   "source": [
    "from tqchem.chem import ase_from_molecule_file_content\n",
    "from tqchem.ttconf.crest_wrapper import launch_crest\n",
    "import numpy as np\n",
    "\n",
    "xyzs = results.minimum_energy_ensemble(\n",
    "    energy_difference=0.26,\n",
    "    rmsd_cutoff=0.125,\n",
    ")\n",
    "ensemble = [ase_from_molecule_file_content(xyz) for xyz in xyzs]\n",
    "optimized_ensemble, optimized_energies = launch_crest(\n",
    "    ensemble,\n",
    "    optlevel=\"normal\",\n",
    ")\n",
    "\n",
    "best_conformer_crestOpt = np.argmin(optimized_energies)\n",
    "energy_best_conformer_crestOpt = optimized_energies[best_conformer_crestOpt]\n",
    "molecule_best_conformer_crestOpt = optimized_ensemble[best_conformer_crestOpt]"
   ]
  },
  {
   "cell_type": "markdown",
   "id": "c62a9cf3-5ec4-4150-805e-fb6b0f5c092d",
   "metadata": {},
   "source": [
    "### Compare energies of rdkit and ttconf conformers"
   ]
  },
  {
   "cell_type": "code",
   "execution_count": 5,
   "id": "6e710d4c-0bca-45ca-a677-ea29d1ba0750",
   "metadata": {},
   "outputs": [
    {
     "name": "stdout",
     "output_type": "stream",
     "text": [
      "E(initial geometry)     : -506.7007039\n",
      "E(TTconf geometry)      : -506.7399425\n",
      "E(TTconf+CREST geometry): -506.7423777\n"
     ]
    }
   ],
   "source": [
    "from tblite.ase import TBLite\n",
    "\n",
    "# Energy of initial rdkit conformer\n",
    "initial_molecule.ase.calc = TBLite(method=\"GFN2-xTB\", verbosity=0)\n",
    "energy_initial = initial_molecule.ase.get_potential_energy()\n",
    "\n",
    "# Energy of the TTconf optimized, but not gradient optimized molecule\n",
    "best_conformer.ase.calc = TBLite(method=\"GFN2-xTB\", verbosity=0)\n",
    "energy_best_conformer = best_conformer.ase.get_potential_energy()\n",
    "\n",
    "energies = {\n",
    "    \"E(initial geometry)     \": energy_initial,\n",
    "    \"E(TTconf geometry)      \": energy_best_conformer,\n",
    "    \"E(TTconf+CREST geometry)\": energy_best_conformer_crestOpt,\n",
    "}\n",
    "print(\"\\n\".join(f\"{label}: {e:.7f}\" for label, e in energies.items()))"
   ]
  },
  {
   "cell_type": "code",
   "execution_count": 6,
   "id": "15031846",
   "metadata": {},
   "outputs": [
    {
     "name": "stdout",
     "output_type": "stream",
     "text": [
      "TTconf best geometry:\n"
     ]
    },
    {
     "data": {
      "application/3dmoljs_load.v0": "<div id=\"3dmolviewer_17331563799790971\"  style=\"position: relative; width: 300px; height: 300px;\">\n        <p id=\"3dmolwarning_17331563799790971\" style=\"background-color:#ffcccc;color:black\">3Dmol.js failed to load for some reason.  Please check your browser console for error messages.<br></p>\n        </div>\n<script>\n\nvar loadScriptAsync = function(uri){\n  return new Promise((resolve, reject) => {\n    //this is to ignore the existence of requirejs amd\n    var savedexports, savedmodule;\n    if (typeof exports !== 'undefined') savedexports = exports;\n    else exports = {}\n    if (typeof module !== 'undefined') savedmodule = module;\n    else module = {}\n\n    var tag = document.createElement('script');\n    tag.src = uri;\n    tag.async = true;\n    tag.onload = () => {\n        exports = savedexports;\n        module = savedmodule;\n        resolve();\n    };\n  var firstScriptTag = document.getElementsByTagName('script')[0];\n  firstScriptTag.parentNode.insertBefore(tag, firstScriptTag);\n});\n};\n\nif(typeof $3Dmolpromise === 'undefined') {\n$3Dmolpromise = null;\n  $3Dmolpromise = loadScriptAsync('https://cdnjs.cloudflare.com/ajax/libs/3Dmol/2.4.2/3Dmol-min.js');\n}\n\nvar viewer_17331563799790971 = null;\nvar warn = document.getElementById(\"3dmolwarning_17331563799790971\");\nif(warn) {\n    warn.parentNode.removeChild(warn);\n}\n$3Dmolpromise.then(function() {\nviewer_17331563799790971 = $3Dmol.createViewer(document.getElementById(\"3dmolviewer_17331563799790971\"),{backgroundColor:\"white\"});\nviewer_17331563799790971.zoomTo();\n\tviewer_17331563799790971.addModel(\"13\\n\\nC      -1.018948861900000     -0.745614609300000      0.168265442800000\\nC      -0.188629896200000      0.530646813300000      0.095111591100000\\nO      -0.438975932200000      1.261086195200000     -1.091504365400000\\nC       1.316336845900000      0.236310761700000      0.196126718200000\\nO       2.065548807700000      1.421414003700000      0.145802210200000\\nH      -2.072611106200000     -0.509034265600000      0.042453464900000\\nH      -0.719050235200000     -1.438598823400000     -0.616948985800000\\nH      -0.879536908700000     -1.229685060400000      1.130298563400000\\nH      -0.470557823600000      1.214654890300000      0.902587326900000\\nH      -0.320959527700000      0.669566623000000     -1.844675842500000\\nH       1.551606928500000     -0.254872109600000      1.142234453500000\\nH       1.608442281900000     -0.433761227000000     -0.630700621100000\\nH       1.625643427700000      2.008211808000000     -0.485707956200000\\n\");\n\tviewer_17331563799790971.setStyle({\"stick\": {\"radius\": 0.2}, \"sphere\": {\"radius\": 0.25}});\n\tviewer_17331563799790971.zoomTo();\nviewer_17331563799790971.render();\n});\n</script>",
      "text/html": [
       "<div id=\"3dmolviewer_17331563799790971\"  style=\"position: relative; width: 300px; height: 300px;\">\n",
       "        <p id=\"3dmolwarning_17331563799790971\" style=\"background-color:#ffcccc;color:black\">3Dmol.js failed to load for some reason.  Please check your browser console for error messages.<br></p>\n",
       "        </div>\n",
       "<script>\n",
       "\n",
       "var loadScriptAsync = function(uri){\n",
       "  return new Promise((resolve, reject) => {\n",
       "    //this is to ignore the existence of requirejs amd\n",
       "    var savedexports, savedmodule;\n",
       "    if (typeof exports !== 'undefined') savedexports = exports;\n",
       "    else exports = {}\n",
       "    if (typeof module !== 'undefined') savedmodule = module;\n",
       "    else module = {}\n",
       "\n",
       "    var tag = document.createElement('script');\n",
       "    tag.src = uri;\n",
       "    tag.async = true;\n",
       "    tag.onload = () => {\n",
       "        exports = savedexports;\n",
       "        module = savedmodule;\n",
       "        resolve();\n",
       "    };\n",
       "  var firstScriptTag = document.getElementsByTagName('script')[0];\n",
       "  firstScriptTag.parentNode.insertBefore(tag, firstScriptTag);\n",
       "});\n",
       "};\n",
       "\n",
       "if(typeof $3Dmolpromise === 'undefined') {\n",
       "$3Dmolpromise = null;\n",
       "  $3Dmolpromise = loadScriptAsync('https://cdnjs.cloudflare.com/ajax/libs/3Dmol/2.4.2/3Dmol-min.js');\n",
       "}\n",
       "\n",
       "var viewer_17331563799790971 = null;\n",
       "var warn = document.getElementById(\"3dmolwarning_17331563799790971\");\n",
       "if(warn) {\n",
       "    warn.parentNode.removeChild(warn);\n",
       "}\n",
       "$3Dmolpromise.then(function() {\n",
       "viewer_17331563799790971 = $3Dmol.createViewer(document.getElementById(\"3dmolviewer_17331563799790971\"),{backgroundColor:\"white\"});\n",
       "viewer_17331563799790971.zoomTo();\n",
       "\tviewer_17331563799790971.addModel(\"13\\n\\nC      -1.018948861900000     -0.745614609300000      0.168265442800000\\nC      -0.188629896200000      0.530646813300000      0.095111591100000\\nO      -0.438975932200000      1.261086195200000     -1.091504365400000\\nC       1.316336845900000      0.236310761700000      0.196126718200000\\nO       2.065548807700000      1.421414003700000      0.145802210200000\\nH      -2.072611106200000     -0.509034265600000      0.042453464900000\\nH      -0.719050235200000     -1.438598823400000     -0.616948985800000\\nH      -0.879536908700000     -1.229685060400000      1.130298563400000\\nH      -0.470557823600000      1.214654890300000      0.902587326900000\\nH      -0.320959527700000      0.669566623000000     -1.844675842500000\\nH       1.551606928500000     -0.254872109600000      1.142234453500000\\nH       1.608442281900000     -0.433761227000000     -0.630700621100000\\nH       1.625643427700000      2.008211808000000     -0.485707956200000\\n\");\n",
       "\tviewer_17331563799790971.setStyle({\"stick\": {\"radius\": 0.2}, \"sphere\": {\"radius\": 0.25}});\n",
       "\tviewer_17331563799790971.zoomTo();\n",
       "viewer_17331563799790971.render();\n",
       "});\n",
       "</script>"
      ]
     },
     "metadata": {},
     "output_type": "display_data"
    }
   ],
   "source": [
    "print(\"TTconf best geometry:\")\n",
    "plot_3D_molecule(molecule_best_conformer_crestOpt).show()"
   ]
  },
  {
   "cell_type": "markdown",
   "id": "89b400d3",
   "metadata": {},
   "source": [
    "### Bond selection\n",
    "\n",
    "It is possible to select the bonds that are considered rotatable.\n",
    "For the bond selection we first investigate the molecular graph and then select the bonds (as tuple of 2 atom IDs) \n",
    "and corresponding dihedral values (as array)."
   ]
  },
  {
   "cell_type": "code",
   "execution_count": 7,
   "id": "915eb0c6",
   "metadata": {},
   "outputs": [
    {
     "data": {
      "image/png": "[encoded data removed]",
      "text/plain": [
       "<Figure size 640x480 with 1 Axes>"
      ]
     },
     "metadata": {},
     "output_type": "display_data"
    }
   ],
   "source": [
    "import numpy as np\n",
    "\n",
    "xyz_block = \"\"\"13\n",
    "\n",
    "C     -1.044461   -0.825824    0.211330\n",
    "C     -0.285778    0.490479    0.068986\n",
    "O     -0.589226    1.155464   -1.136284\n",
    "C      1.232755    0.259051    0.185495\n",
    "O      1.610069   -0.323671    1.406869\n",
    "H     -2.115750   -0.643571    0.208448\n",
    "H     -0.791736   -1.487830   -0.614662\n",
    "H     -0.764530   -1.309872    1.143418\n",
    "H     -0.605130    1.182551    0.857893\n",
    "H     -0.296714    0.606873   -1.873951\n",
    "H      1.557840   -0.441551   -0.590202\n",
    "H      1.752598    1.214578    0.025047\n",
    "H      1.331217    0.249819    2.128887\"\"\"\n",
    "\n",
    "initial_molecule = molecularSystem(xyz_block)\n",
    "initial_molecule.draw()"
   ]
  },
  {
   "cell_type": "code",
   "execution_count": 8,
   "id": "e1165c6f",
   "metadata": {},
   "outputs": [
    {
     "name": "stdout",
     "output_type": "stream",
     "text": [
      "\n",
      "      sweep | index |   Objective  | Runtime\n",
      "     -----------------------------------------------\n",
      "          1 |     1 |  -506.704737 | 0:00:00.572068\n",
      "          2 |     1 |  -506.704737 | 0:00:00.572455\n",
      "energy_one_dihedral = -506.7047367387411\n"
     ]
    },
    {
     "data": {
      "application/3dmoljs_load.v0": "<div id=\"3dmolviewer_1733156380661815\"  style=\"position: relative; width: 300px; height: 300px;\">\n        <p id=\"3dmolwarning_1733156380661815\" style=\"background-color:#ffcccc;color:black\">3Dmol.js failed to load for some reason.  Please check your browser console for error messages.<br></p>\n        </div>\n<script>\n\nvar loadScriptAsync = function(uri){\n  return new Promise((resolve, reject) => {\n    //this is to ignore the existence of requirejs amd\n    var savedexports, savedmodule;\n    if (typeof exports !== 'undefined') savedexports = exports;\n    else exports = {}\n    if (typeof module !== 'undefined') savedmodule = module;\n    else module = {}\n\n    var tag = document.createElement('script');\n    tag.src = uri;\n    tag.async = true;\n    tag.onload = () => {\n        exports = savedexports;\n        module = savedmodule;\n        resolve();\n    };\n  var firstScriptTag = document.getElementsByTagName('script')[0];\n  firstScriptTag.parentNode.insertBefore(tag, firstScriptTag);\n});\n};\n\nif(typeof $3Dmolpromise === 'undefined') {\n$3Dmolpromise = null;\n  $3Dmolpromise = loadScriptAsync('https://cdnjs.cloudflare.com/ajax/libs/3Dmol/2.4.2/3Dmol-min.js');\n}\n\nvar viewer_1733156380661815 = null;\nvar warn = document.getElementById(\"3dmolwarning_1733156380661815\");\nif(warn) {\n    warn.parentNode.removeChild(warn);\n}\n$3Dmolpromise.then(function() {\nviewer_1733156380661815 = $3Dmol.createViewer(document.getElementById(\"3dmolviewer_1733156380661815\"),{backgroundColor:\"white\"});\nviewer_1733156380661815.zoomTo();\n\tviewer_1733156380661815.addModel(\"13\\n\\nC      -1.030400000000000     -0.835813000000000      0.239829000000000\\nC      -0.319656000000000      0.499175000000000      0.037587000000000\\nO       0.987421000000000      0.495891000000000      0.564261000000000\\nC      -1.146373000000000      1.653095000000000      0.639696000000000\\nO      -2.359181000000000      1.861751000000000     -0.038992000000000\\nH      -2.058059000000000     -0.756925000000000     -0.105921000000000\\nH      -0.525287000000000     -1.624326000000000     -0.314192000000000\\nH      -1.039190000000000     -1.098013000000000      1.297486000000000\\nH      -0.186455000000000      0.686960000000000     -1.035423000000000\\nH       0.945541000000000      0.230758000000000      1.489330000000000\\nH      -1.423741000000000      1.417438000000000      1.671008000000000\\nH      -0.531384000000000      2.564328000000000      0.642190000000000\\nH      -2.167113000000000      2.087452000000000     -0.956222000000000\\n\");\n\tviewer_1733156380661815.setStyle({\"stick\": {\"radius\": 0.2}, \"sphere\": {\"radius\": 0.25}});\n\tviewer_1733156380661815.zoomTo();\nviewer_1733156380661815.render();\n});\n</script>",
      "text/html": [
       "<div id=\"3dmolviewer_1733156380661815\"  style=\"position: relative; width: 300px; height: 300px;\">\n",
       "        <p id=\"3dmolwarning_1733156380661815\" style=\"background-color:#ffcccc;color:black\">3Dmol.js failed to load for some reason.  Please check your browser console for error messages.<br></p>\n",
       "        </div>\n",
       "<script>\n",
       "\n",
       "var loadScriptAsync = function(uri){\n",
       "  return new Promise((resolve, reject) => {\n",
       "    //this is to ignore the existence of requirejs amd\n",
       "    var savedexports, savedmodule;\n",
       "    if (typeof exports !== 'undefined') savedexports = exports;\n",
       "    else exports = {}\n",
       "    if (typeof module !== 'undefined') savedmodule = module;\n",
       "    else module = {}\n",
       "\n",
       "    var tag = document.createElement('script');\n",
       "    tag.src = uri;\n",
       "    tag.async = true;\n",
       "    tag.onload = () => {\n",
       "        exports = savedexports;\n",
       "        module = savedmodule;\n",
       "        resolve();\n",
       "    };\n",
       "  var firstScriptTag = document.getElementsByTagName('script')[0];\n",
       "  firstScriptTag.parentNode.insertBefore(tag, firstScriptTag);\n",
       "});\n",
       "};\n",
       "\n",
       "if(typeof $3Dmolpromise === 'undefined') {\n",
       "$3Dmolpromise = null;\n",
       "  $3Dmolpromise = loadScriptAsync('https://cdnjs.cloudflare.com/ajax/libs/3Dmol/2.4.2/3Dmol-min.js');\n",
       "}\n",
       "\n",
       "var viewer_1733156380661815 = null;\n",
       "var warn = document.getElementById(\"3dmolwarning_1733156380661815\");\n",
       "if(warn) {\n",
       "    warn.parentNode.removeChild(warn);\n",
       "}\n",
       "$3Dmolpromise.then(function() {\n",
       "viewer_1733156380661815 = $3Dmol.createViewer(document.getElementById(\"3dmolviewer_1733156380661815\"),{backgroundColor:\"white\"});\n",
       "viewer_1733156380661815.zoomTo();\n",
       "\tviewer_1733156380661815.addModel(\"13\\n\\nC      -1.030400000000000     -0.835813000000000      0.239829000000000\\nC      -0.319656000000000      0.499175000000000      0.037587000000000\\nO       0.987421000000000      0.495891000000000      0.564261000000000\\nC      -1.146373000000000      1.653095000000000      0.639696000000000\\nO      -2.359181000000000      1.861751000000000     -0.038992000000000\\nH      -2.058059000000000     -0.756925000000000     -0.105921000000000\\nH      -0.525287000000000     -1.624326000000000     -0.314192000000000\\nH      -1.039190000000000     -1.098013000000000      1.297486000000000\\nH      -0.186455000000000      0.686960000000000     -1.035423000000000\\nH       0.945541000000000      0.230758000000000      1.489330000000000\\nH      -1.423741000000000      1.417438000000000      1.671008000000000\\nH      -0.531384000000000      2.564328000000000      0.642190000000000\\nH      -2.167113000000000      2.087452000000000     -0.956222000000000\\n\");\n",
       "\tviewer_1733156380661815.setStyle({\"stick\": {\"radius\": 0.2}, \"sphere\": {\"radius\": 0.25}});\n",
       "\tviewer_1733156380661815.zoomTo();\n",
       "viewer_1733156380661815.render();\n",
       "});\n",
       "</script>"
      ]
     },
     "metadata": {},
     "output_type": "display_data"
    }
   ],
   "source": [
    "ttopt = ttconf_optimizer(\n",
    "    initial_molecule,\n",
    "    charge=0,\n",
    "    solvent=None,\n",
    "    method=\"GFN2-xTB\",\n",
    "    ensemble_optimization=True,\n",
    "    set_rotatable_bonds={(0, 1): np.linspace(0, 360, 12, endpoint=False)},\n",
    ")\n",
    "\n",
    "results = ttopt.optimize()\n",
    "one_dihedral_xyz, energy_one_dihedral = results.minimum_energy_xyz()\n",
    "one_dihedral = molecularSystem(one_dihedral_xyz)\n",
    "print(f\"{energy_one_dihedral = }\")\n",
    "plot_3D_molecule(one_dihedral_xyz).show()"
   ]
  },
  {
   "cell_type": "markdown",
   "id": "4e9f9a39",
   "metadata": {},
   "source": [
    "### Ring systems\n",
    "At the moment, only 5- and 6-rings can be optimized with TTconf as we implemented a different way of treating rings.\n"
   ]
  },
  {
   "cell_type": "code",
   "execution_count": 9,
   "id": "08e74735",
   "metadata": {},
   "outputs": [
    {
     "data": {
      "application/3dmoljs_load.v0": "<div id=\"3dmolviewer_1733156380682886\"  style=\"position: relative; width: 300px; height: 300px;\">\n        <p id=\"3dmolwarning_1733156380682886\" style=\"background-color:#ffcccc;color:black\">3Dmol.js failed to load for some reason.  Please check your browser console for error messages.<br></p>\n        </div>\n<script>\n\nvar loadScriptAsync = function(uri){\n  return new Promise((resolve, reject) => {\n    //this is to ignore the existence of requirejs amd\n    var savedexports, savedmodule;\n    if (typeof exports !== 'undefined') savedexports = exports;\n    else exports = {}\n    if (typeof module !== 'undefined') savedmodule = module;\n    else module = {}\n\n    var tag = document.createElement('script');\n    tag.src = uri;\n    tag.async = true;\n    tag.onload = () => {\n        exports = savedexports;\n        module = savedmodule;\n        resolve();\n    };\n  var firstScriptTag = document.getElementsByTagName('script')[0];\n  firstScriptTag.parentNode.insertBefore(tag, firstScriptTag);\n});\n};\n\nif(typeof $3Dmolpromise === 'undefined') {\n$3Dmolpromise = null;\n  $3Dmolpromise = loadScriptAsync('https://cdnjs.cloudflare.com/ajax/libs/3Dmol/2.4.2/3Dmol-min.js');\n}\n\nvar viewer_1733156380682886 = null;\nvar warn = document.getElementById(\"3dmolwarning_1733156380682886\");\nif(warn) {\n    warn.parentNode.removeChild(warn);\n}\n$3Dmolpromise.then(function() {\nviewer_1733156380682886 = $3Dmol.createViewer(document.getElementById(\"3dmolviewer_1733156380682886\"),{backgroundColor:\"white\"});\nviewer_1733156380682886.zoomTo();\n\tviewer_1733156380682886.addModel(\"23\\n\\nO      -0.176086558711500      1.100324302218000     -0.392163023985194\\nC      -1.434142353020463      1.501730668079031      0.155631017908230\\nC      -2.401647182841296      0.341651794562253      0.386386168736036\\nC      -2.135966249141036     -0.791463246159911     -0.590929920751260\\nC      -0.681507878867899     -1.258000178292057     -0.512913558839465\\nC       0.248994639013366     -0.182326403375325      0.064409938661482\\nC       1.697178506175519     -0.421302716796831     -0.366974134773122\\nC       2.648389863583983      0.613221852792694      0.222990984502006\\nO       3.989803324947500      0.297735638835942     -0.136762901872556\\nH      -1.870774366745541      2.217141859992372     -0.549296301085939\\nH      -1.255209462021680      2.040905131724993      1.092368396230033\\nH      -3.436694948458987      0.693177787910406      0.315858320202654\\nH      -2.273216426725503     -0.036045100162514      1.408862209925741\\nH      -2.348109585773395     -0.441236851214957     -1.608995177619549\\nH      -2.811384793970890     -1.632867076314938     -0.401100028632037\\nH      -0.605133664453697     -2.163289660054259      0.101507257819706\\nH      -0.364492453834228     -1.546298297204022     -1.523029973030901\\nH       0.203724536473355     -0.199181642687195      1.161825350670697\\nH       2.018083019066114     -1.427783229617668     -0.071458739560176\\nH       1.782337236939646     -0.378648829738407     -1.460506029107783\\nH       2.583922060108599      0.636632522748395      1.315602874949211\\nH       2.428047561324711      1.615919932589621     -0.155449505515664\\nH       4.193885176933431     -0.579998259835536      0.227060369362197\\n\");\n\tviewer_1733156380682886.setStyle({\"stick\": {\"radius\": 0.2}, \"sphere\": {\"radius\": 0.25}});\n\tviewer_1733156380682886.zoomTo();\nviewer_1733156380682886.render();\n});\n</script>",
      "text/html": [
       "<div id=\"3dmolviewer_1733156380682886\"  style=\"position: relative; width: 300px; height: 300px;\">\n",
       "        <p id=\"3dmolwarning_1733156380682886\" style=\"background-color:#ffcccc;color:black\">3Dmol.js failed to load for some reason.  Please check your browser console for error messages.<br></p>\n",
       "        </div>\n",
       "<script>\n",
       "\n",
       "var loadScriptAsync = function(uri){\n",
       "  return new Promise((resolve, reject) => {\n",
       "    //this is to ignore the existence of requirejs amd\n",
       "    var savedexports, savedmodule;\n",
       "    if (typeof exports !== 'undefined') savedexports = exports;\n",
       "    else exports = {}\n",
       "    if (typeof module !== 'undefined') savedmodule = module;\n",
       "    else module = {}\n",
       "\n",
       "    var tag = document.createElement('script');\n",
       "    tag.src = uri;\n",
       "    tag.async = true;\n",
       "    tag.onload = () => {\n",
       "        exports = savedexports;\n",
       "        module = savedmodule;\n",
       "        resolve();\n",
       "    };\n",
       "  var firstScriptTag = document.getElementsByTagName('script')[0];\n",
       "  firstScriptTag.parentNode.insertBefore(tag, firstScriptTag);\n",
       "});\n",
       "};\n",
       "\n",
       "if(typeof $3Dmolpromise === 'undefined') {\n",
       "$3Dmolpromise = null;\n",
       "  $3Dmolpromise = loadScriptAsync('https://cdnjs.cloudflare.com/ajax/libs/3Dmol/2.4.2/3Dmol-min.js');\n",
       "}\n",
       "\n",
       "var viewer_1733156380682886 = null;\n",
       "var warn = document.getElementById(\"3dmolwarning_1733156380682886\");\n",
       "if(warn) {\n",
       "    warn.parentNode.removeChild(warn);\n",
       "}\n",
       "$3Dmolpromise.then(function() {\n",
       "viewer_1733156380682886 = $3Dmol.createViewer(document.getElementById(\"3dmolviewer_1733156380682886\"),{backgroundColor:\"white\"});\n",
       "viewer_1733156380682886.zoomTo();\n",
       "\tviewer_1733156380682886.addModel(\"23\\n\\nO      -0.176086558711500      1.100324302218000     -0.392163023985194\\nC      -1.434142353020463      1.501730668079031      0.155631017908230\\nC      -2.401647182841296      0.341651794562253      0.386386168736036\\nC      -2.135966249141036     -0.791463246159911     -0.590929920751260\\nC      -0.681507878867899     -1.258000178292057     -0.512913558839465\\nC       0.248994639013366     -0.182326403375325      0.064409938661482\\nC       1.697178506175519     -0.421302716796831     -0.366974134773122\\nC       2.648389863583983      0.613221852792694      0.222990984502006\\nO       3.989803324947500      0.297735638835942     -0.136762901872556\\nH      -1.870774366745541      2.217141859992372     -0.549296301085939\\nH      -1.255209462021680      2.040905131724993      1.092368396230033\\nH      -3.436694948458987      0.693177787910406      0.315858320202654\\nH      -2.273216426725503     -0.036045100162514      1.408862209925741\\nH      -2.348109585773395     -0.441236851214957     -1.608995177619549\\nH      -2.811384793970890     -1.632867076314938     -0.401100028632037\\nH      -0.605133664453697     -2.163289660054259      0.101507257819706\\nH      -0.364492453834228     -1.546298297204022     -1.523029973030901\\nH       0.203724536473355     -0.199181642687195      1.161825350670697\\nH       2.018083019066114     -1.427783229617668     -0.071458739560176\\nH       1.782337236939646     -0.378648829738407     -1.460506029107783\\nH       2.583922060108599      0.636632522748395      1.315602874949211\\nH       2.428047561324711      1.615919932589621     -0.155449505515664\\nH       4.193885176933431     -0.579998259835536      0.227060369362197\\n\");\n",
       "\tviewer_1733156380682886.setStyle({\"stick\": {\"radius\": 0.2}, \"sphere\": {\"radius\": 0.25}});\n",
       "\tviewer_1733156380682886.zoomTo();\n",
       "viewer_1733156380682886.render();\n",
       "});\n",
       "</script>"
      ]
     },
     "metadata": {},
     "output_type": "display_data"
    },
    {
     "name": "stdout",
     "output_type": "stream",
     "text": [
      "\n",
      "      sweep | index |   Objective  | Runtime\n",
      "     -----------------------------------------------\n",
      "          1 |     4 |  -823.571253 | 0:00:02.276078\n",
      "          1 |     3 |  -823.597379 | 0:00:06.952778\n",
      "          1 |     2 |  -823.598813 | 0:00:10.225388\n",
      "          1 |     1 |  -823.649913 | 0:00:11.172686\n",
      "          2 |     1 |  -823.649913 | 0:00:11.173265\n",
      "          2 |     2 |  -823.649955 | 0:00:12.806396\n",
      "          2 |     3 |  -823.749278 | 0:00:16.092978\n",
      "          2 |     4 |  -823.749278 | 0:00:17.347438\n",
      "energy_best_conformer = -823.7492781160647\n"
     ]
    },
    {
     "data": {
      "application/3dmoljs_load.v0": "<div id=\"3dmolviewer_1733156398121651\"  style=\"position: relative; width: 300px; height: 300px;\">\n        <p id=\"3dmolwarning_1733156398121651\" style=\"background-color:#ffcccc;color:black\">3Dmol.js failed to load for some reason.  Please check your browser console for error messages.<br></p>\n        </div>\n<script>\n\nvar loadScriptAsync = function(uri){\n  return new Promise((resolve, reject) => {\n    //this is to ignore the existence of requirejs amd\n    var savedexports, savedmodule;\n    if (typeof exports !== 'undefined') savedexports = exports;\n    else exports = {}\n    if (typeof module !== 'undefined') savedmodule = module;\n    else module = {}\n\n    var tag = document.createElement('script');\n    tag.src = uri;\n    tag.async = true;\n    tag.onload = () => {\n        exports = savedexports;\n        module = savedmodule;\n        resolve();\n    };\n  var firstScriptTag = document.getElementsByTagName('script')[0];\n  firstScriptTag.parentNode.insertBefore(tag, firstScriptTag);\n});\n};\n\nif(typeof $3Dmolpromise === 'undefined') {\n$3Dmolpromise = null;\n  $3Dmolpromise = loadScriptAsync('https://cdnjs.cloudflare.com/ajax/libs/3Dmol/2.4.2/3Dmol-min.js');\n}\n\nvar viewer_1733156398121651 = null;\nvar warn = document.getElementById(\"3dmolwarning_1733156398121651\");\nif(warn) {\n    warn.parentNode.removeChild(warn);\n}\n$3Dmolpromise.then(function() {\nviewer_1733156398121651 = $3Dmol.createViewer(document.getElementById(\"3dmolviewer_1733156398121651\"),{backgroundColor:\"white\"});\nviewer_1733156398121651.zoomTo();\n\tviewer_1733156398121651.addModel(\"23\\n\\nO      -0.173388000000000      1.189376000000000     -0.180891000000000\\nC      -1.530985000000000      1.458950000000000      0.079283000000000\\nC      -2.418123000000000      0.247478000000000     -0.202891000000000\\nC      -1.928622000000000     -0.937817000000000      0.624910000000000\\nC      -0.443976000000000     -1.163716000000000      0.344464000000000\\nC       0.334821000000000      0.126970000000000      0.616127000000000\\nC       1.823701000000000     -0.028333000000000      0.302600000000000\\nC       2.627322000000000      1.218183000000000      0.683814000000000\\nO       2.397353000000000      2.298836000000000     -0.178586000000000\\nH      -1.792994000000000      2.299558000000000     -0.565322000000000\\nH      -1.655309000000000      1.769768000000000      1.127412000000000\\nH      -2.361394000000000      0.002285000000000     -1.263912000000000\\nH      -3.451587000000000      0.492817000000000      0.042870000000000\\nH      -2.498069000000000     -1.835752000000000      0.379153000000000\\nH      -2.071677000000000     -0.726240000000000      1.687380000000000\\nH      -0.052361000000000     -1.967771000000000      0.965269000000000\\nH      -0.308013000000000     -1.439489000000000     -0.703589000000000\\nH       0.211523000000000      0.397909000000000      1.680765000000000\\nH       2.208769000000000     -0.890431000000000      0.848369000000000\\nH       1.942328000000000     -0.206678000000000     -0.767186000000000\\nH       3.698430000000000      1.004666000000000      0.624952000000000\\nH       2.389848000000000      1.499141000000000      1.723293000000000\\nH       1.439974000000000      2.343866000000000     -0.328574000000000\\n\");\n\tviewer_1733156398121651.setStyle({\"stick\": {\"radius\": 0.2}, \"sphere\": {\"radius\": 0.25}});\n\tviewer_1733156398121651.zoomTo();\nviewer_1733156398121651.render();\n});\n</script>",
      "text/html": [
       "<div id=\"3dmolviewer_1733156398121651\"  style=\"position: relative; width: 300px; height: 300px;\">\n",
       "        <p id=\"3dmolwarning_1733156398121651\" style=\"background-color:#ffcccc;color:black\">3Dmol.js failed to load for some reason.  Please check your browser console for error messages.<br></p>\n",
       "        </div>\n",
       "<script>\n",
       "\n",
       "var loadScriptAsync = function(uri){\n",
       "  return new Promise((resolve, reject) => {\n",
       "    //this is to ignore the existence of requirejs amd\n",
       "    var savedexports, savedmodule;\n",
       "    if (typeof exports !== 'undefined') savedexports = exports;\n",
       "    else exports = {}\n",
       "    if (typeof module !== 'undefined') savedmodule = module;\n",
       "    else module = {}\n",
       "\n",
       "    var tag = document.createElement('script');\n",
       "    tag.src = uri;\n",
       "    tag.async = true;\n",
       "    tag.onload = () => {\n",
       "        exports = savedexports;\n",
       "        module = savedmodule;\n",
       "        resolve();\n",
       "    };\n",
       "  var firstScriptTag = document.getElementsByTagName('script')[0];\n",
       "  firstScriptTag.parentNode.insertBefore(tag, firstScriptTag);\n",
       "});\n",
       "};\n",
       "\n",
       "if(typeof $3Dmolpromise === 'undefined') {\n",
       "$3Dmolpromise = null;\n",
       "  $3Dmolpromise = loadScriptAsync('https://cdnjs.cloudflare.com/ajax/libs/3Dmol/2.4.2/3Dmol-min.js');\n",
       "}\n",
       "\n",
       "var viewer_1733156398121651 = null;\n",
       "var warn = document.getElementById(\"3dmolwarning_1733156398121651\");\n",
       "if(warn) {\n",
       "    warn.parentNode.removeChild(warn);\n",
       "}\n",
       "$3Dmolpromise.then(function() {\n",
       "viewer_1733156398121651 = $3Dmol.createViewer(document.getElementById(\"3dmolviewer_1733156398121651\"),{backgroundColor:\"white\"});\n",
       "viewer_1733156398121651.zoomTo();\n",
       "\tviewer_1733156398121651.addModel(\"23\\n\\nO      -0.173388000000000      1.189376000000000     -0.180891000000000\\nC      -1.530985000000000      1.458950000000000      0.079283000000000\\nC      -2.418123000000000      0.247478000000000     -0.202891000000000\\nC      -1.928622000000000     -0.937817000000000      0.624910000000000\\nC      -0.443976000000000     -1.163716000000000      0.344464000000000\\nC       0.334821000000000      0.126970000000000      0.616127000000000\\nC       1.823701000000000     -0.028333000000000      0.302600000000000\\nC       2.627322000000000      1.218183000000000      0.683814000000000\\nO       2.397353000000000      2.298836000000000     -0.178586000000000\\nH      -1.792994000000000      2.299558000000000     -0.565322000000000\\nH      -1.655309000000000      1.769768000000000      1.127412000000000\\nH      -2.361394000000000      0.002285000000000     -1.263912000000000\\nH      -3.451587000000000      0.492817000000000      0.042870000000000\\nH      -2.498069000000000     -1.835752000000000      0.379153000000000\\nH      -2.071677000000000     -0.726240000000000      1.687380000000000\\nH      -0.052361000000000     -1.967771000000000      0.965269000000000\\nH      -0.308013000000000     -1.439489000000000     -0.703589000000000\\nH       0.211523000000000      0.397909000000000      1.680765000000000\\nH       2.208769000000000     -0.890431000000000      0.848369000000000\\nH       1.942328000000000     -0.206678000000000     -0.767186000000000\\nH       3.698430000000000      1.004666000000000      0.624952000000000\\nH       2.389848000000000      1.499141000000000      1.723293000000000\\nH       1.439974000000000      2.343866000000000     -0.328574000000000\\n\");\n",
       "\tviewer_1733156398121651.setStyle({\"stick\": {\"radius\": 0.2}, \"sphere\": {\"radius\": 0.25}});\n",
       "\tviewer_1733156398121651.zoomTo();\n",
       "viewer_1733156398121651.render();\n",
       "});\n",
       "</script>"
      ]
     },
     "metadata": {},
     "output_type": "display_data"
    }
   ],
   "source": [
    "from tqchem.viewer import plot_3D_molecule\n",
    "\n",
    "initial_molecule = molecularSystem(\"O1CCCCC1CCO\")\n",
    "plot_3D_molecule(initial_molecule.ase).show()\n",
    "\n",
    "ttopt = ttconf_optimizer(\n",
    "    initial_molecule,\n",
    "    filter_type=\"energy\",\n",
    "    charge=0,\n",
    "    solvent=None,\n",
    "    method=\"GFN2-xTB\",\n",
    "    ensemble_optimization=True,\n",
    ")\n",
    "\n",
    "results = ttopt.optimize()\n",
    "best_conformer_xyz, energy_best_conformer = results.minimum_energy_xyz()\n",
    "best_conformer = molecularSystem(best_conformer_xyz)\n",
    "\n",
    "print(f\"{energy_best_conformer = }\")\n",
    "plot_3D_molecule(best_conformer_xyz).show()"
   ]
  },
  {
   "cell_type": "markdown",
   "id": "e6fd5338",
   "metadata": {},
   "source": [
    "For bigger rings like a 7-ring the optimization with default parameters will fail."
   ]
  },
  {
   "cell_type": "code",
   "execution_count": 10,
   "id": "c6da4deb",
   "metadata": {},
   "outputs": [
    {
     "data": {
      "application/3dmoljs_load.v0": "<div id=\"3dmolviewer_1733156398140075\"  style=\"position: relative; width: 300px; height: 300px;\">\n        <p id=\"3dmolwarning_1733156398140075\" style=\"background-color:#ffcccc;color:black\">3Dmol.js failed to load for some reason.  Please check your browser console for error messages.<br></p>\n        </div>\n<script>\n\nvar loadScriptAsync = function(uri){\n  return new Promise((resolve, reject) => {\n    //this is to ignore the existence of requirejs amd\n    var savedexports, savedmodule;\n    if (typeof exports !== 'undefined') savedexports = exports;\n    else exports = {}\n    if (typeof module !== 'undefined') savedmodule = module;\n    else module = {}\n\n    var tag = document.createElement('script');\n    tag.src = uri;\n    tag.async = true;\n    tag.onload = () => {\n        exports = savedexports;\n        module = savedmodule;\n        resolve();\n    };\n  var firstScriptTag = document.getElementsByTagName('script')[0];\n  firstScriptTag.parentNode.insertBefore(tag, firstScriptTag);\n});\n};\n\nif(typeof $3Dmolpromise === 'undefined') {\n$3Dmolpromise = null;\n  $3Dmolpromise = loadScriptAsync('https://cdnjs.cloudflare.com/ajax/libs/3Dmol/2.4.2/3Dmol-min.js');\n}\n\nvar viewer_1733156398140075 = null;\nvar warn = document.getElementById(\"3dmolwarning_1733156398140075\");\nif(warn) {\n    warn.parentNode.removeChild(warn);\n}\n$3Dmolpromise.then(function() {\nviewer_1733156398140075 = $3Dmol.createViewer(document.getElementById(\"3dmolviewer_1733156398140075\"),{backgroundColor:\"white\"});\nviewer_1733156398140075.zoomTo();\n\tviewer_1733156398140075.addModel(\"27\\n\\nO      -1.856027963878452      1.457653622138118      0.917351856907440\\nC      -2.065665546998844      1.384831202801528     -0.485672408060689\\nC      -0.862519761886790      0.779692010470123     -1.220622680914357\\nC       0.236644374497412      0.190971252082198     -0.314037226473139\\nC       1.486259728637088     -0.137727514234208     -1.167253914590316\\nC       2.690508645935316     -0.686220672887389     -0.394366883203985\\nN       3.161590262567088      0.245041756430311      0.621620886905828\\nC      -0.235487067803247     -1.040012851012573      0.485044133078684\\nC      -1.692801901354066     -1.033205571397716      0.943091597692770\\nC      -2.147241217072821      0.255054328556829      1.623527565581338\\nH      -2.993850258285951      0.847272401123487     -0.714033403281171\\nH      -2.214759584457656      2.410460597309858     -0.841823286589050\\nH      -0.423642683069197      1.573136760359873     -1.840388297452385\\nH      -1.217604200799129      0.024936385981293     -1.933916251380989\\nH       0.527966113406047      0.971100494309967      0.401815341384605\\nH       1.799147611442700      0.768049083908002     -1.703878653797027\\nH       1.212544313165895     -0.869417877893350     -1.938688044194670\\nH       2.443701604376802     -1.642874893885889      0.076667032705608\\nH       3.504809751556403     -0.880469015556339     -1.101627537741467\\nH       4.022433088794702     -0.108050664275034      1.036456138468484\\nH       3.392937658465673      1.139415106890612      0.191510980762468\\nH       0.405931029176077     -1.149995646902135      1.368698038078572\\nH      -0.085858358664939     -1.947831022923940     -0.113764671541504\\nH      -1.857851182082537     -1.874504255284797      1.627238875451464\\nH      -2.331282915931022     -1.233090690324819      0.073809036376389\\nH      -3.228756856579194      0.215723939556482      1.796948438163854\\nH      -1.671124683157365      0.340061734659395      2.606293337663166\\n\");\n\tviewer_1733156398140075.setStyle({\"stick\": {\"radius\": 0.2}, \"sphere\": {\"radius\": 0.25}});\n\tviewer_1733156398140075.zoomTo();\nviewer_1733156398140075.render();\n});\n</script>",
      "text/html": [
       "<div id=\"3dmolviewer_1733156398140075\"  style=\"position: relative; width: 300px; height: 300px;\">\n",
       "        <p id=\"3dmolwarning_1733156398140075\" style=\"background-color:#ffcccc;color:black\">3Dmol.js failed to load for some reason.  Please check your browser console for error messages.<br></p>\n",
       "        </div>\n",
       "<script>\n",
       "\n",
       "var loadScriptAsync = function(uri){\n",
       "  return new Promise((resolve, reject) => {\n",
       "    //this is to ignore the existence of requirejs amd\n",
       "    var savedexports, savedmodule;\n",
       "    if (typeof exports !== 'undefined') savedexports = exports;\n",
       "    else exports = {}\n",
       "    if (typeof module !== 'undefined') savedmodule = module;\n",
       "    else module = {}\n",
       "\n",
       "    var tag = document.createElement('script');\n",
       "    tag.src = uri;\n",
       "    tag.async = true;\n",
       "    tag.onload = () => {\n",
       "        exports = savedexports;\n",
       "        module = savedmodule;\n",
       "        resolve();\n",
       "    };\n",
       "  var firstScriptTag = document.getElementsByTagName('script')[0];\n",
       "  firstScriptTag.parentNode.insertBefore(tag, firstScriptTag);\n",
       "});\n",
       "};\n",
       "\n",
       "if(typeof $3Dmolpromise === 'undefined') {\n",
       "$3Dmolpromise = null;\n",
       "  $3Dmolpromise = loadScriptAsync('https://cdnjs.cloudflare.com/ajax/libs/3Dmol/2.4.2/3Dmol-min.js');\n",
       "}\n",
       "\n",
       "var viewer_1733156398140075 = null;\n",
       "var warn = document.getElementById(\"3dmolwarning_1733156398140075\");\n",
       "if(warn) {\n",
       "    warn.parentNode.removeChild(warn);\n",
       "}\n",
       "$3Dmolpromise.then(function() {\n",
       "viewer_1733156398140075 = $3Dmol.createViewer(document.getElementById(\"3dmolviewer_1733156398140075\"),{backgroundColor:\"white\"});\n",
       "viewer_1733156398140075.zoomTo();\n",
       "\tviewer_1733156398140075.addModel(\"27\\n\\nO      -1.856027963878452      1.457653622138118      0.917351856907440\\nC      -2.065665546998844      1.384831202801528     -0.485672408060689\\nC      -0.862519761886790      0.779692010470123     -1.220622680914357\\nC       0.236644374497412      0.190971252082198     -0.314037226473139\\nC       1.486259728637088     -0.137727514234208     -1.167253914590316\\nC       2.690508645935316     -0.686220672887389     -0.394366883203985\\nN       3.161590262567088      0.245041756430311      0.621620886905828\\nC      -0.235487067803247     -1.040012851012573      0.485044133078684\\nC      -1.692801901354066     -1.033205571397716      0.943091597692770\\nC      -2.147241217072821      0.255054328556829      1.623527565581338\\nH      -2.993850258285951      0.847272401123487     -0.714033403281171\\nH      -2.214759584457656      2.410460597309858     -0.841823286589050\\nH      -0.423642683069197      1.573136760359873     -1.840388297452385\\nH      -1.217604200799129      0.024936385981293     -1.933916251380989\\nH       0.527966113406047      0.971100494309967      0.401815341384605\\nH       1.799147611442700      0.768049083908002     -1.703878653797027\\nH       1.212544313165895     -0.869417877893350     -1.938688044194670\\nH       2.443701604376802     -1.642874893885889      0.076667032705608\\nH       3.504809751556403     -0.880469015556339     -1.101627537741467\\nH       4.022433088794702     -0.108050664275034      1.036456138468484\\nH       3.392937658465673      1.139415106890612      0.191510980762468\\nH       0.405931029176077     -1.149995646902135      1.368698038078572\\nH      -0.085858358664939     -1.947831022923940     -0.113764671541504\\nH      -1.857851182082537     -1.874504255284797      1.627238875451464\\nH      -2.331282915931022     -1.233090690324819      0.073809036376389\\nH      -3.228756856579194      0.215723939556482      1.796948438163854\\nH      -1.671124683157365      0.340061734659395      2.606293337663166\\n\");\n",
       "\tviewer_1733156398140075.setStyle({\"stick\": {\"radius\": 0.2}, \"sphere\": {\"radius\": 0.25}});\n",
       "\tviewer_1733156398140075.zoomTo();\n",
       "viewer_1733156398140075.render();\n",
       "});\n",
       "</script>"
      ]
     },
     "metadata": {},
     "output_type": "display_data"
    },
    {
     "name": "stdout",
     "output_type": "stream",
     "text": [
      "Impossible to run calculations for 7-ring with default settings.\n"
     ]
    }
   ],
   "source": [
    "initial_molecule = molecularSystem(\"O1CCC(CCN)CCC1\")\n",
    "plot_3D_molecule(initial_molecule.ase).show()\n",
    "\n",
    "try:\n",
    "    ttopt = ttconf_optimizer(initial_molecule)\n",
    "except Exception:\n",
    "    print(\"Impossible to run calculations for 7-ring with default settings.\")"
   ]
  },
  {
   "cell_type": "markdown",
   "id": "def15894",
   "metadata": {},
   "source": [
    "It is, however, possible to avoid the separate treatment of rings by setting `single_batframe=True`"
   ]
  },
  {
   "cell_type": "code",
   "execution_count": 11,
   "id": "17c16a68",
   "metadata": {},
   "outputs": [
    {
     "name": "stdout",
     "output_type": "stream",
     "text": [
      "\n",
      "      sweep | index |   Objective  | Runtime\n",
      "     -----------------------------------------------\n",
      "          1 |     3 |    -8.432938 | 0:00:01.895418\n",
      "          1 |     2 |   -14.969960 | 0:00:04.820821\n",
      "          1 |     1 |   -16.708092 | 0:00:06.691786\n",
      "          2 |     1 |   -16.708092 | 0:00:06.692577\n",
      "          2 |     2 |   -16.716360 | 0:00:08.269578\n",
      "          2 |     3 |   -19.317325 | 0:00:09.802838\n",
      "energy_best_conformer = -892.0589298575549\n"
     ]
    },
    {
     "data": {
      "application/3dmoljs_load.v0": "<div id=\"3dmolviewer_1733156408293389\"  style=\"position: relative; width: 300px; height: 300px;\">\n        <p id=\"3dmolwarning_1733156408293389\" style=\"background-color:#ffcccc;color:black\">3Dmol.js failed to load for some reason.  Please check your browser console for error messages.<br></p>\n        </div>\n<script>\n\nvar loadScriptAsync = function(uri){\n  return new Promise((resolve, reject) => {\n    //this is to ignore the existence of requirejs amd\n    var savedexports, savedmodule;\n    if (typeof exports !== 'undefined') savedexports = exports;\n    else exports = {}\n    if (typeof module !== 'undefined') savedmodule = module;\n    else module = {}\n\n    var tag = document.createElement('script');\n    tag.src = uri;\n    tag.async = true;\n    tag.onload = () => {\n        exports = savedexports;\n        module = savedmodule;\n        resolve();\n    };\n  var firstScriptTag = document.getElementsByTagName('script')[0];\n  firstScriptTag.parentNode.insertBefore(tag, firstScriptTag);\n});\n};\n\nif(typeof $3Dmolpromise === 'undefined') {\n$3Dmolpromise = null;\n  $3Dmolpromise = loadScriptAsync('https://cdnjs.cloudflare.com/ajax/libs/3Dmol/2.4.2/3Dmol-min.js');\n}\n\nvar viewer_1733156408293389 = null;\nvar warn = document.getElementById(\"3dmolwarning_1733156408293389\");\nif(warn) {\n    warn.parentNode.removeChild(warn);\n}\n$3Dmolpromise.then(function() {\nviewer_1733156408293389 = $3Dmol.createViewer(document.getElementById(\"3dmolviewer_1733156408293389\"),{backgroundColor:\"white\"});\nviewer_1733156408293389.zoomTo();\n\tviewer_1733156408293389.addModel(\"27\\n\\nO      -2.608923319011078      1.281690180674118     -0.321038605711095\\nC      -1.259631705275986      1.678069416926849     -0.505720083092568\\nC      -0.247629034068461      1.009414820530881      0.422224243093367\\nC       0.324244506583951     -0.294037432563847     -0.167372649454410\\nC       1.522140101863207     -0.824647024961341      0.660291771454664\\nC       2.748064202791122      0.089574605366458      0.757890943411218\\nN       3.316253591754784      0.398164000727231     -0.547861749984013\\nC      -0.722237826223759     -1.419498082262922     -0.273655969184712\\nC      -2.023717593136981     -1.046788319329804     -0.983766772263398\\nC      -2.879830718175349     -0.100967907719598     -0.150324878622349\\nH      -1.242087392258486      2.757485292432342     -0.316276962262136\\nH      -0.987537447277371      1.554191242956114     -1.560064931779869\\nH       0.572356998569946      1.722548599775931      0.556368424743504\\nH      -0.683241566472900      0.824137412789133      1.410773788074961\\nH       0.677383825791910     -0.084997635387829     -1.185486889946312\\nH       1.181749166119096     -1.044534646350486      1.680826719136565\\nH       1.846818192139873     -1.784139014365405      0.234887107585118\\nH       2.508627496938344      1.016292274285784      1.288112234880511\\nH       3.512899457276237     -0.421254757978785      1.353937339470443\\nH       2.670361926680838      0.977718962778858     -1.081007574385836\\nH       4.158688663832384      0.959113449623782     -0.424384938216618\\nH      -0.958556861930493     -1.801683326542323      0.728223344787305\\nH      -0.270894059347313     -2.259341023788494     -0.818408868772172\\nH      -1.816505990919736     -0.633179616318066     -1.976548336274653\\nH      -2.588832175903655     -1.975613893592101     -1.130581651935329\\nH      -2.820395471825538     -0.341422876256505      0.917329742825386\\nH      -3.929566968514353     -0.236294701450166     -0.434046027542997\\n\");\n\tviewer_1733156408293389.setStyle({\"stick\": {\"radius\": 0.2}, \"sphere\": {\"radius\": 0.25}});\n\tviewer_1733156408293389.zoomTo();\nviewer_1733156408293389.render();\n});\n</script>",
      "text/html": [
       "<div id=\"3dmolviewer_1733156408293389\"  style=\"position: relative; width: 300px; height: 300px;\">\n",
       "        <p id=\"3dmolwarning_1733156408293389\" style=\"background-color:#ffcccc;color:black\">3Dmol.js failed to load for some reason.  Please check your browser console for error messages.<br></p>\n",
       "        </div>\n",
       "<script>\n",
       "\n",
       "var loadScriptAsync = function(uri){\n",
       "  return new Promise((resolve, reject) => {\n",
       "    //this is to ignore the existence of requirejs amd\n",
       "    var savedexports, savedmodule;\n",
       "    if (typeof exports !== 'undefined') savedexports = exports;\n",
       "    else exports = {}\n",
       "    if (typeof module !== 'undefined') savedmodule = module;\n",
       "    else module = {}\n",
       "\n",
       "    var tag = document.createElement('script');\n",
       "    tag.src = uri;\n",
       "    tag.async = true;\n",
       "    tag.onload = () => {\n",
       "        exports = savedexports;\n",
       "        module = savedmodule;\n",
       "        resolve();\n",
       "    };\n",
       "  var firstScriptTag = document.getElementsByTagName('script')[0];\n",
       "  firstScriptTag.parentNode.insertBefore(tag, firstScriptTag);\n",
       "});\n",
       "};\n",
       "\n",
       "if(typeof $3Dmolpromise === 'undefined') {\n",
       "$3Dmolpromise = null;\n",
       "  $3Dmolpromise = loadScriptAsync('https://cdnjs.cloudflare.com/ajax/libs/3Dmol/2.4.2/3Dmol-min.js');\n",
       "}\n",
       "\n",
       "var viewer_1733156408293389 = null;\n",
       "var warn = document.getElementById(\"3dmolwarning_1733156408293389\");\n",
       "if(warn) {\n",
       "    warn.parentNode.removeChild(warn);\n",
       "}\n",
       "$3Dmolpromise.then(function() {\n",
       "viewer_1733156408293389 = $3Dmol.createViewer(document.getElementById(\"3dmolviewer_1733156408293389\"),{backgroundColor:\"white\"});\n",
       "viewer_1733156408293389.zoomTo();\n",
       "\tviewer_1733156408293389.addModel(\"27\\n\\nO      -2.608923319011078      1.281690180674118     -0.321038605711095\\nC      -1.259631705275986      1.678069416926849     -0.505720083092568\\nC      -0.247629034068461      1.009414820530881      0.422224243093367\\nC       0.324244506583951     -0.294037432563847     -0.167372649454410\\nC       1.522140101863207     -0.824647024961341      0.660291771454664\\nC       2.748064202791122      0.089574605366458      0.757890943411218\\nN       3.316253591754784      0.398164000727231     -0.547861749984013\\nC      -0.722237826223759     -1.419498082262922     -0.273655969184712\\nC      -2.023717593136981     -1.046788319329804     -0.983766772263398\\nC      -2.879830718175349     -0.100967907719598     -0.150324878622349\\nH      -1.242087392258486      2.757485292432342     -0.316276962262136\\nH      -0.987537447277371      1.554191242956114     -1.560064931779869\\nH       0.572356998569946      1.722548599775931      0.556368424743504\\nH      -0.683241566472900      0.824137412789133      1.410773788074961\\nH       0.677383825791910     -0.084997635387829     -1.185486889946312\\nH       1.181749166119096     -1.044534646350486      1.680826719136565\\nH       1.846818192139873     -1.784139014365405      0.234887107585118\\nH       2.508627496938344      1.016292274285784      1.288112234880511\\nH       3.512899457276237     -0.421254757978785      1.353937339470443\\nH       2.670361926680838      0.977718962778858     -1.081007574385836\\nH       4.158688663832384      0.959113449623782     -0.424384938216618\\nH      -0.958556861930493     -1.801683326542323      0.728223344787305\\nH      -0.270894059347313     -2.259341023788494     -0.818408868772172\\nH      -1.816505990919736     -0.633179616318066     -1.976548336274653\\nH      -2.588832175903655     -1.975613893592101     -1.130581651935329\\nH      -2.820395471825538     -0.341422876256505      0.917329742825386\\nH      -3.929566968514353     -0.236294701450166     -0.434046027542997\\n\");\n",
       "\tviewer_1733156408293389.setStyle({\"stick\": {\"radius\": 0.2}, \"sphere\": {\"radius\": 0.25}});\n",
       "\tviewer_1733156408293389.zoomTo();\n",
       "viewer_1733156408293389.render();\n",
       "});\n",
       "</script>"
      ]
     },
     "metadata": {},
     "output_type": "display_data"
    }
   ],
   "source": [
    "initial_molecule = molecularSystem(\"O1CCC(CCN)CCC1\", single_batframe=True)\n",
    "\n",
    "ttopt = ttconf_optimizer(\n",
    "    initial_molecule,\n",
    "    charge=0,\n",
    "    filter_type=\"boltzmann energy difference\",\n",
    "    solvent=None,\n",
    "    method=\"GFN2-xTB\",\n",
    "    ensemble_optimization=True,\n",
    ")\n",
    "\n",
    "results = ttopt.optimize()\n",
    "best_conformer_xyz, energy_best_conformer = results.minimum_energy_xyz()\n",
    "best_conformer = molecularSystem(best_conformer_xyz)\n",
    "\n",
    "print(f\"{energy_best_conformer = }\")\n",
    "plot_3D_molecule(initial_molecule.ase).show()"
   ]
  }
 ],
 "metadata": {
  "kernelspec": {
   "display_name": "tqchem",
   "language": "python",
   "name": "python3"
  },
  "language_info": {
   "codemirror_mode": {
    "name": "ipython",
    "version": 3
   },
   "file_extension": ".py",
   "mimetype": "text/x-python",
   "name": "python",
   "nbconvert_exporter": "python",
   "pygments_lexer": "ipython3",
   "version": "3.12.7"
  }
 },
 "nbformat": 4,
 "nbformat_minor": 5
}
